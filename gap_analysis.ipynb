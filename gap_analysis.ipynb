{
 "cells": [
  {
   "cell_type": "code",
   "execution_count": 1,
   "id": "2e17bbdc",
   "metadata": {},
   "outputs": [
    {
     "name": "stdout",
     "output_type": "stream",
     "text": [
      "✅ Missing skills: {'java'}\n",
      "💯 Match rate: 50.0%\n"
     ]
    }
   ],
   "source": [
    "import json\n",
    "\n",
    "# --- Load files ---\n",
    "with open(\"resume_skills.json\") as f:\n",
    "    resume = json.load(f)\n",
    "with open(\"jd_skills.json\") as f:\n",
    "    jd = json.load(f)\n",
    "\n",
    "# --- Handle both dictionary and list formats ---\n",
    "if isinstance(resume[\"skills\"], dict):\n",
    "    resume_set = set(sum(resume[\"skills\"].values(), []))  # flatten dict\n",
    "else:\n",
    "    resume_set = set(resume[\"skills\"])\n",
    "\n",
    "if \"skills\" in jd:\n",
    "    jd_set = set(jd[\"skills\"])\n",
    "else:\n",
    "    jd_set = set(jd.get(\"required\", []) + jd.get(\"preferred\", []))\n",
    "\n",
    "# --- Compare ---\n",
    "missing_skills = jd_set - resume_set\n",
    "match_rate = len(resume_set & jd_set) / len(jd_set) * 100\n",
    "\n",
    "print(f\"✅ Missing skills: {missing_skills}\")\n",
    "print(f\"💯 Match rate: {match_rate:.1f}%\")\n"
   ]
  }
 ],
 "metadata": {
  "kernelspec": {
   "display_name": "Python 3",
   "language": "python",
   "name": "python3"
  },
  "language_info": {
   "codemirror_mode": {
    "name": "ipython",
    "version": 3
   },
   "file_extension": ".py",
   "mimetype": "text/x-python",
   "name": "python",
   "nbconvert_exporter": "python",
   "pygments_lexer": "ipython3",
   "version": "3.12.1"
  }
 },
 "nbformat": 4,
 "nbformat_minor": 5
}
